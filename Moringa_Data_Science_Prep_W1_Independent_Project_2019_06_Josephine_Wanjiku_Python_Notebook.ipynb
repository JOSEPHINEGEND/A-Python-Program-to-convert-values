{
  "nbformat": 4,
  "nbformat_minor": 0,
  "metadata": {
    "colab": {
      "name": "Moringa_Data_Science_Prep_W1_Independent_Project_2019_06_Josephine_Wanjiku_Python_Notebook",
      "version": "0.3.2",
      "provenance": [],
      "collapsed_sections": [],
      "include_colab_link": true
    },
    "kernelspec": {
      "name": "python3",
      "display_name": "Python 3"
    }
  },
  "cells": [
    {
      "cell_type": "markdown",
      "metadata": {
        "id": "view-in-github",
        "colab_type": "text"
      },
      "source": [
        "<a href=\"https://colab.research.google.com/github/JOSEPHINEGEND/Moringa_Data_Science_Prep_W1_Independent_Project_2019_06_Josephine_Wanjiku_Python_Notebook/blob/master/Moringa_Data_Science_Prep_W1_Independent_Project_2019_06_Josephine_Wanjiku_Python_Notebook.ipynb\" target=\"_parent\"><img src=\"https://colab.research.google.com/assets/colab-badge.svg\" alt=\"Open In Colab\"/></a>"
      ]
    },
    {
      "cell_type": "code",
      "metadata": {
        "id": "GWcSoa6OPAXe",
        "colab_type": "code",
        "outputId": "ced6ed55-326c-4690-c8a1-69cee5e94258",
        "colab": {
          "base_uri": "https://localhost:8080/",
          "height": 202
        }
      },
      "source": [
        "# The program here will allow a user to input two values (both in pounds)\n",
        "# I have limited the values to be integers only\n",
        "\n",
        "x = int(input(\"Enter a number x: \"))\n",
        "\n",
        "y = int(input(\"Enter a number y: \"))\n",
        "\n",
        "# For conversion 1 pound = 0.453592 kilograms\n",
        "\n",
        "# the lines of code below will convert the two input values in pounds to kilograms\n",
        "\n",
        "x_kgs = x * 0.453592\n",
        "print(x_kgs)\n",
        "\n",
        "y_kgs = y * 0.453592\n",
        "print(y_kgs)\n",
        "\n",
        "# here the program calculates the sum of the two values input by the user \n",
        "\n",
        "print(x+y)\n",
        "\n",
        "# To obtain average of the two values input by the user\n",
        "# Average is the sum of the two values inserted then divided by the number of values which is 2\n",
        "\n",
        "print ((x+y)/2)\n",
        "\n",
        "# Finding the difference of the two values input by the user\n",
        "\n",
        "print(x-y)\n",
        "\n",
        "# Find the quotient when one value is divided by the other.\n",
        "\n",
        "print (x/y)\n",
        "\n",
        "print (y/x)\n",
        "\n",
        "# The program will show whether the values input for x are even or odd \n",
        "# An even number is that value that when divided by 2 there is no remainder\n",
        "# An odd number however when divided by 2 gives a remainder 1\n",
        "\n",
        "if x % 2 == 0: \n",
        "  print(\"Even\")\n",
        "elif x % 2 == 1:\n",
        "  print(\"Odd\")\n",
        "  \n",
        "# The program will show whether the values input for x are even or odd\n",
        "\n",
        "if y % 2 == 0:\n",
        "  print(\"Even\")\n",
        "elif y % 2 == 1:\n",
        "  print(\"Odd\")\n",
        "\n"
      ],
      "execution_count": 0,
      "outputs": [
        {
          "output_type": "stream",
          "text": [
            "Enter a number x: 700\n",
            "Enter a number y: 425\n",
            "317.5144\n",
            "192.7766\n",
            "1125\n",
            "562.5\n",
            "275\n",
            "1.6470588235294117\n",
            "0.6071428571428571\n",
            "Even\n",
            "Odd\n"
          ],
          "name": "stdout"
        }
      ]
    },
    {
      "cell_type": "code",
      "metadata": {
        "id": "21dAJEoQQQtA",
        "colab_type": "code",
        "colab": {}
      },
      "source": [
        "import pandas as pd\n"
      ],
      "execution_count": 0,
      "outputs": []
    },
    {
      "cell_type": "code",
      "metadata": {
        "id": "7K8Qqq1CQQzd",
        "colab_type": "code",
        "colab": {}
      },
      "source": [
        ""
      ],
      "execution_count": 0,
      "outputs": []
    }
  ]
}